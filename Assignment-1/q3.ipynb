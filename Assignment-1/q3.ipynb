{
 "cells": [
  {
   "cell_type": "code",
   "execution_count": 9,
   "metadata": {},
   "outputs": [],
   "source": [
    "import numpy as np ; \n",
    "import matplotlib.pyplot as plt  \n",
    "\n"
   ]
  },
  {
   "cell_type": "markdown",
   "metadata": {},
   "source": [
    "# Part D"
   ]
  },
  {
   "cell_type": "markdown",
   "metadata": {},
   "source": [
    "# K-faced Geometric Die Simulation\n",
    "\n",
    "We have a general k-faced geometric die, where the probability that the upward face is i from a random roll is given by:\n",
    "\n",
    "P(i) = 1 / (2^(i-1))\n",
    "\n",
    "for 2 ≤ i ≤ k, and the probability that the upward face is 1 is:\n",
    "\n",
    "P(1) = P(k) = 1 / (2^(k-1))\n",
    "\n",
    "The probabilities for each face are defined as:\n",
    "- P(1) = P(k) = 1 / (2^(k-1))\n",
    "- P(2) = 1 / 2\n",
    "- P(3) = 1 / 4, and so on.\n",
    "\n",
    "## Program to Simulate Rolls\n",
    "\n",
    "We will write a program to simulate rolling the die for different values of k and track how the number of exact rolls required changes as k increases.\n"
   ]
  },
  {
   "cell_type": "code",
   "execution_count": 11,
   "metadata": {},
   "outputs": [],
   "source": [
    "import numpy as np\n",
    "import matplotlib.pyplot as plt\n",
    "\n",
    "def roll_die(k):\n",
    "    probabilities = np.array([1 / (2 ** (i - 1)) for i in range(1, k + 1)])\n",
    "    probabilities[0] = 1 / (2 ** (k - 1))  # Adjust probability for face 1\n",
    "    probabilities /= np.sum(probabilities)  # Normalize probabilities\n",
    "    return np.random.choice(range(1, k + 1), p=probabilities)\n",
    "\n",
    "def expected_rolls(k, trials=10000):\n",
    "    total_rolls = 0\n",
    "    for _ in range(trials):\n",
    "        seen_faces = set()\n",
    "        rolls = 0\n",
    "        while len(seen_faces) < k:\n",
    "            face = roll_die(k)\n",
    "            seen_faces.add(face)\n",
    "            rolls += 1\n",
    "        total_rolls += rolls\n",
    "    return total_rolls / trials\n",
    "\n",
    "ks = range(2, 21)  # Test for k from 2 to 20\n",
    "expected_values = [expected_rolls(k) for k in ks]\n",
    "\n",
    "# Plotting the results\n",
    "plt.plot(ks, expected_values, marker='o')\n",
    "plt.title('Expected Number of Rolls vs. Number of Faces (k)')\n",
    "plt.xlabel('Number of Faces (k)')\n",
    "plt.ylabel('Expected Number of Rolls')\n",
    "plt.grid()\n",
    "plt.show()\n"
   ]
  }
 ],
 "metadata": {
  "kernelspec": {
   "display_name": "Python 3",
   "language": "python",
   "name": "python3"
  },
  "language_info": {
   "codemirror_mode": {
    "name": "ipython",
    "version": 3
   },
   "file_extension": ".py",
   "mimetype": "text/x-python",
   "name": "python",
   "nbconvert_exporter": "python",
   "pygments_lexer": "ipython3",
   "version": "3.12.2"
  }
 },
 "nbformat": 4,
 "nbformat_minor": 2
}
