{
 "cells": [
  {
   "cell_type": "markdown",
   "metadata": {},
   "source": [
    "ALL IMPORTS ARE BEING STORED HERE ."
   ]
  },
  {
   "cell_type": "code",
   "execution_count": 65,
   "metadata": {},
   "outputs": [],
   "source": [
    "import hashlib\n",
    "import sys\n",
    "import matplotlib.pyplot as plt\n",
    "import numpy as np\n",
    "import pandas as pd "
   ]
  },
  {
   "cell_type": "markdown",
   "metadata": {},
   "source": [
    "# PART-A"
   ]
  },
  {
   "cell_type": "markdown",
   "metadata": {},
   "source": [
    "A) Create a hash table data structure. Make this a class in python. It should\n",
    "have the array A, which should be a python list of sized m for some user-speci\n",
    "ed value of m, specified when the class is instantiated. Each position of this\n",
    "list should also store another python list as the chain of elements which are\n",
    "mapped to this bucket. You can choose the prime number to be p = 524287.\n",
    "Use random library in python to choose a as specified in class and then create\n",
    "the function such that it hashes element x to ha(x) = ((ax) mod p) mod\n",
    "m."
   ]
  },
  {
   "cell_type": "markdown",
   "metadata": {},
   "source": [
    "We have to implement the above hash table data structure class which is the normal linked list type of data structure in a hash table . "
   ]
  },
  {
   "cell_type": "markdown",
   "metadata": {},
   "source": [
    "So , i will also be doing error handling in this class for better performance and the required checks ."
   ]
  },
  {
   "cell_type": "code",
   "execution_count": 66,
   "metadata": {},
   "outputs": [],
   "source": [
    "import random ; \n",
    "\n",
    "class HashTableDS: \n",
    "  \n",
    "  # setting the default size of the hash table to 16 and the prime number to 524287 . \n",
    "  def __init__(self , hash_function_used ,  size: int=16 , prime: int=524287):\n",
    "    \n",
    "    if (size <= 0):\n",
    "      print(\"The size of the hash table shpuld be greater than 0\") ; \n",
    "    \n",
    "    self.m = size ; \n",
    "    self.p = prime ; \n",
    "    \n",
    "    # print(size) ; \n",
    "    \n",
    "    self.A = [] ; \n",
    "    for i in range(self.m):\n",
    "      self.A.append([]) ; # initializing the hash table with m linked lists . \n",
    "      \n",
    "    self.a = random.randint(1 , self.p - 1) ; # we select a from 1 to (p-1) as given in the slides \n",
    "    \n",
    "    self.hash_function_used = hash_function_used ; \n",
    "    \n",
    "  def hash_function_value(self , x): \n",
    "    \n",
    "    if (self.hash_function_used == \"universal\"):\n",
    "    # this will return hashed value for the function . \n",
    "    \n",
    "      return (((self.a * x) % self.p) % self.m) ; \n",
    "\n",
    "    elif (self.hash_function_used == \"random\"):\n",
    "      \n",
    "      return int(self.m * (random.random()) ) ; \n",
    "     \n",
    "      \n",
    "  def insert_element(self , x):   \n",
    "    \n",
    "    \n",
    "    hashing_index = self.hash_function_value(x) ; \n",
    "    \n",
    "    self.A[hashing_index].append(x) ; \n",
    "    \n",
    "    \n",
    "  def search_element(self, x ): \n",
    "    \n",
    "    index = self.hash_function_value(x) ; \n",
    "    \n",
    "    if x in self.A[index]:\n",
    "      \n",
    "      return True ; \n",
    "    \n",
    "    else:\n",
    "      return False ; \n",
    "    \n",
    "  def delete_element(self , x): \n",
    "    index = self.hash_function_value(x) ; \n",
    "    if x in self.A[index]: \n",
    "      self.A[index].remove(x) ; \n",
    "      \n",
    "      return True ; \n",
    "    \n",
    "    return False ; \n",
    "  \n",
    "  \n",
    "  def get_linked_lists(self): \n",
    "    for i in range(self.m): \n",
    "      if (len(self.A[i]) > 0): \n",
    "        print(f\"Bucket{i} elements :  {self.A[i]}\") ;     \n",
    "        \n",
    "    \n",
    "  def max_bucket_size(self): \n",
    "    \n",
    "    max_size = 0 ; \n",
    "    for i in range(self.m): \n",
    "      max_size = max(max_size , len(self.A[i])) ; \n",
    "      \n",
    "    return max_size ; \n",
    "  \n",
    "  def min_bucket_size(self): \n",
    "    \n",
    "    min_size = min(len(x) for x in self.A ) ;\n",
    "    \n",
    "    return min_size ;  \n",
    " "
   ]
  },
  {
   "cell_type": "markdown",
   "metadata": {},
   "source": [
    "# PART - B"
   ]
  },
  {
   "cell_type": "markdown",
   "metadata": {},
   "source": [
    "B) We will experiment with a hash function that maps strings to buckets. Con-\n",
    "sider the data file word.txt. We will use the md5 hash function to create a\n",
    "\n",
    "hashtable from this. You can read how to use the md5 library in here. Use the\n",
    "hexdigest() method and then take the last 4 digits. This will create a hash\n",
    "function that maps any string into an index between 0 and 16^4 = 65536. For\n",
    "each string in the input file, output the hash value."
   ]
  },
  {
   "cell_type": "markdown",
   "metadata": {},
   "source": [
    "So we need to use hexdigest() method , this takes the last 4 digits of the hexadecimal notation , thus the value can be from 0 to 15 , thus total number of indexes are from 0 to 16^4 = 2^16 = 65536 ."
   ]
  },
  {
   "cell_type": "code",
   "execution_count": 67,
   "metadata": {},
   "outputs": [],
   "source": [
    "# hash_example = HashTableDS() ; \n",
    "\n",
    "# hash_func = hashlib.shake_256(b'Nobody inspects the spammish repetition') ; \n",
    "\n",
    "# hash_func.hexdigest(20) ; \n",
    "\n",
    "\n",
    "with open(r\"words.txt\" , 'r') as file1 :\n",
    "  \n",
    "  words = file1.readlines() ; \n",
    "  \n",
    "hash_values_stored = [] ; \n",
    "\n",
    "for i in range(len(words)): \n",
    "  hash_value = hashlib.md5(words[i].encode()).hexdigest() ;  \n",
    "  \n",
    "  hash_value = hash_value[len(hash_value) - 4:] ; \n",
    "  \n",
    "  hash_value = int(hash_value , 16) ; \n",
    "  \n",
    "  hash_values_stored.append(hash_value) ;\n",
    "\n",
    "# print(hash_values_stored) ;  \n",
    "\n",
    "with open(r\"words_new.txt\" , 'w') as file2: \n",
    "    \n",
    "  for i in range(len(hash_values_stored)):\n",
    "    file2.write(str(hash_values_stored[i]) + \"\\n\") ; \n",
    "  \n",
    "  \n",
    "\n",
    "  "
   ]
  },
  {
   "cell_type": "markdown",
   "metadata": {},
   "source": [
    "Thus we converted the values into encoding using the above approach , now we can test for these . "
   ]
  },
  {
   "cell_type": "markdown",
   "metadata": {},
   "source": [
    "# PART-C"
   ]
  },
  {
   "cell_type": "markdown",
   "metadata": {},
   "source": [
    "C) We will experiment with the maximum chain length for two hash functions.\n",
    "The first one is the universal hash function you created in problem (a). The\n",
    "\n",
    "second one is a random hash function, which you can create as the following\n",
    "line of Python code for a given value x. We will store the targets of this random\n",
    "hash function in a python dictionary as h[x] = int(m * random.random()),\n",
    "where h[x] is the bucket index of the table where x should be stored. Choose m\n",
    "= 500000. Now, for each of the two hash functions, calculate the hash bucket\n",
    "index for all numbers in 1, . . . , m, and find out the maximum and minimum\n",
    "number of elements in a bucket. Do this experiment 5 times for each of the\n",
    "hash functions. Present your result in a table or bar graph. Which of these\n",
    "hash functions has more of a difference between the maximum and minimum\n",
    "chain?"
   ]
  },
  {
   "cell_type": "markdown",
   "metadata": {},
   "source": [
    "First using the universal hash function , we have the following : "
   ]
  },
  {
   "cell_type": "code",
   "execution_count": 68,
   "metadata": {},
   "outputs": [
    {
     "name": "stdout",
     "output_type": "stream",
     "text": [
      "2\n",
      "0\n"
     ]
    }
   ],
   "source": [
    "m = 500000 ; \n",
    "\n",
    "def universal_hashing(m): \n",
    "  \n",
    "  hash_table = HashTableDS(\"universal\" , m) ; \n",
    "  \n",
    "  for i in range(1 , m + 1): # including the last element . \n",
    "    hash_table.insert_element(i) ; \n",
    "    \n",
    "  return hash_table  ; \n",
    "\n",
    "hash_table_universal = universal_hashing(m)  \n",
    "\n",
    "print(hash_table_universal.max_bucket_size()) \n",
    "\n",
    "print(hash_table_universal.min_bucket_size()) ; \n",
    "\n"
   ]
  },
  {
   "cell_type": "markdown",
   "metadata": {},
   "source": [
    "Secondly using the random hash function, we have the following : "
   ]
  },
  {
   "cell_type": "code",
   "execution_count": 69,
   "metadata": {},
   "outputs": [
    {
     "name": "stdout",
     "output_type": "stream",
     "text": [
      "8\n",
      "0\n"
     ]
    }
   ],
   "source": [
    "m = 500000 ; \n",
    "\n",
    "def random_hashing(m): \n",
    "  \n",
    "  hash_table = HashTableDS(\"random\" , m) ; \n",
    "  \n",
    "  for i in range(1 , m + 1): # including the last element . \n",
    "    hash_table.insert_element(i) ; \n",
    "    \n",
    "  return hash_table  ; \n",
    "\n",
    "hash_table_random = random_hashing(m)  \n",
    "\n",
    "print(hash_table_random.max_bucket_size()) \n",
    "\n",
    "print(hash_table_random.min_bucket_size()) ; \n"
   ]
  },
  {
   "cell_type": "markdown",
   "metadata": {},
   "source": [
    "Now we can see that the difference between the maximum and minimum number of elements in a buckets in the case of universal function is way less than in the case of random hash function . "
   ]
  },
  {
   "cell_type": "markdown",
   "metadata": {},
   "source": [
    "Now lets run the code for 5 times and plot the graphs for the same . "
   ]
  },
  {
   "cell_type": "code",
   "execution_count": 70,
   "metadata": {},
   "outputs": [
    {
     "data": {
      "image/png": "[encoded data removed]",
      "text/plain": [
       "<Figure size 1200x600 with 1 Axes>"
      ]
     },
     "metadata": {},
     "output_type": "display_data"
    },
    {
     "name": "stdout",
     "output_type": "stream",
     "text": [
      "\n",
      "Universal Hashing Results:\n",
      "  Trial  Universal Max Bucket Size  Universal Min Bucket Size\n",
      "Trial 1                          2                          0\n",
      "Trial 2                          2                          0\n",
      "Trial 3                          2                          0\n",
      "Trial 4                          2                          0\n",
      "Trial 5                          2                          0\n"
     ]
    },
    {
     "data": {
      "image/png": "[encoded data removed]",
      "text/plain": [
       "<Figure size 600x350 with 1 Axes>"
      ]
     },
     "metadata": {},
     "output_type": "display_data"
    },
    {
     "data": {
      "image/png": "[encoded data removed]",
      "text/plain": [
       "<Figure size 1200x600 with 1 Axes>"
      ]
     },
     "metadata": {},
     "output_type": "display_data"
    },
    {
     "name": "stdout",
     "output_type": "stream",
     "text": [
      "\n",
      "Random Hashing Results:\n",
      "  Trial  random Max Bucket Size  random Min Bucket Size\n",
      "Trial 1                       8                       0\n",
      "Trial 2                      10                       0\n",
      "Trial 3                       9                       0\n",
      "Trial 4                       9                       0\n",
      "Trial 5                       9                       0\n"
     ]
    },
    {
     "data": {
      "image/png": "[encoded data removed]",
      "text/plain": [
       "<Figure size 600x350 with 1 Axes>"
      ]
     },
     "metadata": {},
     "output_type": "display_data"
    }
   ],
   "source": [
    "def plot_table(max_values , min_values , hash_function_used):\n",
    "  trials = [f\"Trial {i+1}\" for i in range(len(max_values))]\n",
    "  data = {\n",
    "      \"Trial\": trials,\n",
    "      f\"{hash_function_used} Max Bucket Size\": max_values,\n",
    "      f\"{hash_function_used} Min Bucket Size\": min_values,\n",
    "  }\n",
    "  df = pd.DataFrame(data)\n",
    "  \n",
    "  print(f\"\\n{hash_function_used.capitalize()} Hashing Results:\")\n",
    "  print(df.to_string(index=False))\n",
    "  \n",
    "  fig, ax = plt.subplots(figsize=(6, 1 + 0.5 * len(trials)))\n",
    "  ax.axis('tight')\n",
    "  ax.axis('off')\n",
    "  table = plt.table(cellText=df.values, colLabels=df.columns, loc='center', cellLoc='center')\n",
    "  table.auto_set_font_size(False)\n",
    "  table.set_fontsize(10)\n",
    "  table.auto_set_column_width(col=list(range(len(df.columns))))\n",
    "  plt.show()\n",
    "  \n",
    "def plot_max_min_bar(max_values, min_values, hash_function_used):\n",
    "    trials = range(1, len(max_values) + 1)\n",
    "    bar_width = 0.35  \n",
    "    index = np.arange(len(trials))  \n",
    "\n",
    "    plt.figure(figsize=(12, 6))\n",
    "    \n",
    "    max_bars = plt.bar(index, max_values, bar_width, label=f\"{hash_function_used} Max Chain\", color=\"blue\")\n",
    "    min_bars = plt.bar(index + bar_width, min_values, bar_width, label=f\"{hash_function_used} Min Chain\", color=\"orange\")\n",
    "    \n",
    "    for i, (min_val, min_bar) in enumerate(zip(min_values, min_bars)):\n",
    "        if min_val == 0:\n",
    "            plt.text(min_bar.get_x() + min_bar.get_width() / 2, 1, '0', ha='center', va='bottom', color='red', fontsize=10)\n",
    "    \n",
    "    plt.xlabel(\"Trial\")\n",
    "    plt.ylabel(\"Number of Elements in Bucket\")\n",
    "    plt.title(f\"Maximum and Minimum Bucket Sizes ({hash_function_used} Hash)\")\n",
    "    plt.xticks(index + bar_width / 2, [f\"Trial {i}\" for i in trials]) \n",
    "    plt.legend()\n",
    "    plt.show()\n",
    "\n",
    "  \n",
    "  \n",
    "def universal_hash_plot(m): \n",
    "  max_values = [] ; \n",
    "  min_values = [] ; \n",
    "  \n",
    "  number_of_times = 5 ; \n",
    "  for i in range(number_of_times): \n",
    "    hash_table = universal_hashing(m) ; \n",
    "    max_values.append(hash_table.max_bucket_size()) ; \n",
    "    min_values.append(hash_table.min_bucket_size()) ; \n",
    "    \n",
    "  plot_max_min_bar(max_values , min_values , \"universal\") ; \n",
    "  plot_table(max_values, min_values, \"Universal\") \n",
    "  \n",
    "def random_hash_plot(m):\n",
    "  max_values = [] ; \n",
    "  min_values = [] ; \n",
    "  \n",
    "  number_of_times = 5 ; \n",
    "  for i in range(number_of_times): \n",
    "    hash_table = random_hashing(m) ; \n",
    "    max_values.append(hash_table.max_bucket_size()) ; \n",
    "    min_values.append(hash_table.min_bucket_size()) ; \n",
    "    \n",
    "  plot_max_min_bar(max_values , min_values , \"random\") ; \n",
    "  plot_table(max_values, min_values, \"random\") \n",
    "     \n",
    "m = 500000 ; \n",
    "universal_hash_plot(m) ; \n",
    "\n",
    "random_hash_plot(m) ;  "
   ]
  },
  {
   "cell_type": "markdown",
   "metadata": {},
   "source": [
    "We can see that for Universal Hashing , the max is coming to be around 2 elements and the minimum elements to be 0 elements in a buckets , thus this shows that there is very less difference betweeen min and max elements in a bucket in the Universal Hashing case . "
   ]
  },
  {
   "cell_type": "markdown",
   "metadata": {},
   "source": [
    "We can see that for Random Hashing , the max is coming to be around 8 to 9 elements and the minimum elements to be around 0 elements in a bucket, thus this shows that there is a lot more difference between the min and max bucket in the case of Random Hashing Function showing that this is not good for hashing purposes as the length of a chain can get a lot bigger than the Universal Hashing function . \n"
   ]
  },
  {
   "cell_type": "markdown",
   "metadata": {},
   "source": [
    "# PART-D"
   ]
  },
  {
   "cell_type": "markdown",
   "metadata": {},
   "source": [
    "(d) Use Flajolet-Martin to estimate the number of unique words in the list. Con-\n",
    "sider the id of every word as the last 4 digits as used in problem (b) and use the\n",
    "\n",
    "universal hashing of problem (a) with m = 500000 to compute the hash values\n",
    "of every id. Compute the trailing zeroes of every hash function and maintain\n",
    "the largest trailing zeros as z until the end of the ids. Finally, return 2\n",
    "z+1/2\n",
    "."
   ]
  },
  {
   "cell_type": "markdown",
   "metadata": {},
   "source": [
    "We need to use the id of the words which wed got in the part b of this question "
   ]
  },
  {
   "cell_type": "code",
   "execution_count": 71,
   "metadata": {},
   "outputs": [],
   "source": [
    "# print(hash_values_stored[0]);  \n",
    "\n",
    "\n",
    "def compute_trailing_zeros(m , hash_values_stored):\n",
    "  new_hashed_values = [] ; \n",
    "  hash_table = HashTableDS(\"universal\", m) ; \n",
    "  \n",
    "  for i in range(len(hash_values_stored)): \n",
    "    new_val = hash_table.hash_function_value(hash_values_stored[i]) ; \n",
    "    new_hashed_values.append(new_val) ; \n",
    "    \n",
    "  max_trailing_zeros = 0 ; # this is to find the maximum trailing zeros in the binary representation of the hash values . \n",
    "  \n",
    "  for i in range(len(new_hashed_values)): \n",
    "    trailing_zeros = 0 ; \n",
    "    \n",
    "    while (new_hashed_values[i] % 2 == 0): \n",
    "      if (new_hashed_values[i] == 0):\n",
    "        break ; \n",
    "      \n",
    "      trailing_zeros += 1 ; \n",
    "      new_hashed_values[i] = new_hashed_values[i] // 2 ; \n",
    "      \n",
    "    max_trailing_zeros = max(max_trailing_zeros , trailing_zeros) ; \n",
    "    \n",
    "  return max_trailing_zeros ; \n",
    "\n",
    "m = 500000 ; \n",
    "\n",
    "# print(compute_trailing_zeros(m , hash_values_stored)) ; \n",
    "    \n",
    "  \n",
    "  "
   ]
  },
  {
   "cell_type": "code",
   "execution_count": 72,
   "metadata": {},
   "outputs": [
    {
     "name": "stdout",
     "output_type": "stream",
     "text": [
      "16\n",
      "92681.90002368316\n"
     ]
    }
   ],
   "source": [
    "get_power = compute_trailing_zeros(m , hash_values_stored) ; \n",
    "\n",
    "print(get_power)\n",
    "print(pow(2 , (get_power + 1/2))) ; "
   ]
  },
  {
   "cell_type": "code",
   "execution_count": 73,
   "metadata": {},
   "outputs": [
    {
     "name": "stdout",
     "output_type": "stream",
     "text": [
      "65237\n"
     ]
    }
   ],
   "source": [
    "unique_words = set(hash_values_stored)  # Use a set to automatically store unique words\n",
    "print(len(unique_words))  # Print the count of unique words\n"
   ]
  }
 ],
 "metadata": {
  "kernelspec": {
   "display_name": "Python 3",
   "language": "python",
   "name": "python3"
  },
  "language_info": {
   "codemirror_mode": {
    "name": "ipython",
    "version": 3
   },
   "file_extension": ".py",
   "mimetype": "text/x-python",
   "name": "python",
   "nbconvert_exporter": "python",
   "pygments_lexer": "ipython3",
   "version": "3.12.2"
  }
 },
 "nbformat": 4,
 "nbformat_minor": 2
}
