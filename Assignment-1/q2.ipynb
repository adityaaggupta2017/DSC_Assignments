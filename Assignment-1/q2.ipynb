{
 "cells": [
  {
   "cell_type": "code",
   "execution_count": 39,
   "metadata": {},
   "outputs": [],
   "source": [
    "from collections import Counter\n",
    "import pandas as pd\n",
    "import numpy as np "
   ]
  },
  {
   "cell_type": "markdown",
   "metadata": {},
   "source": [
    "from collections import Counter\n",
    "import pandas as pd\n",
    "import numpy as np "
   ]
  },
  {
   "cell_type": "markdown",
   "metadata": {},
   "source": [
    "We have n points {x1 , x2 , .... , xn } and formulaes for variance and mean . Now we need to consider a population consisting of 100000 points uniformly distributed between 0.01 and 1000 . Ex : \n",
    "D = {0.01 , 0.02 , 0.03 , 0.04 ,  ..... , 1000} . \n",
    "\n",
    "\n",
    "We need to compute variance of this population D . We are calling it the true variance of the population . The variance comes out to be : "
   ]
  },
  {
   "cell_type": "code",
   "execution_count": 40,
   "metadata": {},
   "outputs": [
    {
     "name": "stdout",
     "output_type": "stream",
     "text": [
      "The variance of the Population(True) :83333.333325\n"
     ]
    }
   ],
   "source": [
    "dataset = np.linspace(0.01 , 1000 ,100000) ; \n",
    "\n",
    "def calculate_mean(x): \n",
    "  \n",
    "  return sum(x) / len(x) ; \n",
    "  \n",
    "def get_variance(x): \n",
    "  \n",
    "  mean = calculate_mean(x) ; \n",
    "  sum1 = 0 ; \n",
    "  for i in x : \n",
    "    sum1 += ((i - mean) **2) \n",
    "    \n",
    "  sum1 /= len(x) ; \n",
    "  \n",
    "  return sum1 ; \n",
    "\n",
    "\n",
    "variance_true = get_variance(dataset) ; \n",
    "\n",
    "print(\"The variance of the Population(True) :\" + str(variance_true)) ; "
   ]
  },
  {
   "cell_type": "markdown",
   "metadata": {},
   "source": [
    "## Sampling with Replacement and Variance Calculation\n",
    "\n",
    "To randomly sample 50 points {y₁, ..., y₅₀} from the population D, where for 1 ≤ i ≤ 50, yᵢ ∈ D, we compute the following variances:\n",
    "\n",
    "1. **Sample Mean Calculation**:\n",
    "   μ = (y₁ + y₂ + ... + y₅₀) / 50\n",
    "\n",
    "2. **Variance Definitions**:\n",
    "   - **Sample Variance with n + 1**:\n",
    "     s²₁ = Σ(yᵢ - μ)² / (n + 1)\n",
    "\n",
    "   - **Sample Variance with n**:\n",
    "     s²₂ = Σ(yᵢ - μ)² / n\n",
    "\n",
    "   - **Sample Variance with n - 1**:\n",
    "     s²₃ = Σ(yᵢ - μ)² / (n - 1)\n",
    "\n",
    "Where n = 50.\n"
   ]
  },
  {
   "cell_type": "code",
   "execution_count": 41,
   "metadata": {},
   "outputs": [
    {
     "name": "stdout",
     "output_type": "stream",
     "text": [
      "Value of s1: 94069.14254623528\n",
      "Value of s2: 95950.52539715997\n",
      "Value of s3: 97908.69938485711\n"
     ]
    }
   ],
   "source": [
    "def variance1(x) : \n",
    "  ans = 0 ; \n",
    "  \n",
    "  val_avg = calculate_mean(x) ; \n",
    "  \n",
    "  \n",
    "  # here n = len(x) ; \n",
    "  \n",
    "  return sum((x - val_avg)**2)/(len(x)+1)\n",
    "\n",
    "def variance2(x) : \n",
    "  ans = 0 ; \n",
    "  \n",
    "  val_avg = calculate_mean(x) ; \n",
    "  \n",
    "  \n",
    "  # here n = len(x) ; \n",
    "  \n",
    "  return sum((x - val_avg)**2)/(len(x))\n",
    "\n",
    "\n",
    "def variance3(x) : \n",
    "  ans = 0 ; \n",
    "  \n",
    "  val_avg = calculate_mean(x) ; \n",
    "  \n",
    "  \n",
    "  # here n = len(x) ; \n",
    "  \n",
    "  return sum((x - val_avg)**2)/(len(x)-1)\n",
    "\n",
    "\n",
    "\n",
    "def get_sample(dataset): \n",
    "  \n",
    "  indices = np.random.randint(0 , 100000, 50) ; \n",
    "  \n",
    "  dataset_sample = dataset[indices] ; \n",
    "  \n",
    "  \n",
    "  return dataset_sample ; \n",
    "\n",
    "dataset1 = get_sample(dataset) ; \n",
    "# print(d1.shape)\n",
    "\n",
    "\n",
    "print(\"Value of s1: \" + str(variance1(dataset1)) ) \n",
    "print(\"Value of s2: \" + str(variance2(dataset1)) ) \n",
    "print(\"Value of s3: \" + str(variance3(dataset1)) ) \n",
    "\n"
   ]
  },
  {
   "cell_type": "markdown",
   "metadata": {},
   "source": [
    "Now lets run the above code for the second time . "
   ]
  },
  {
   "cell_type": "code",
   "execution_count": 42,
   "metadata": {},
   "outputs": [
    {
     "name": "stdout",
     "output_type": "stream",
     "text": [
      "Value of s1: 90759.29905258822\n",
      "Value of s2: 92574.48503363998\n",
      "Value of s3: 94463.76023840815\n"
     ]
    }
   ],
   "source": [
    "dataset2 = get_sample(dataset) ; \n",
    "\n",
    "print(\"Value of s1: \" + str(variance1(dataset2)) ) \n",
    "print(\"Value of s2: \" + str(variance2(dataset2)) ) \n",
    "print(\"Value of s3: \" + str(variance3(dataset2)) ) "
   ]
  },
  {
   "cell_type": "markdown",
   "metadata": {},
   "source": []
  },
  {
   "cell_type": "code",
   "execution_count": null,
   "metadata": {},
   "outputs": [],
   "source": []
  }
 ],
 "metadata": {
  "kernelspec": {
   "display_name": "Python 3",
   "language": "python",
   "name": "python3"
  },
  "language_info": {
   "codemirror_mode": {
    "name": "ipython",
    "version": 3
   },
   "file_extension": ".py",
   "mimetype": "text/x-python",
   "name": "python",
   "nbconvert_exporter": "python",
   "pygments_lexer": "ipython3",
   "version": "3.12.2"
  }
 },
 "nbformat": 4,
 "nbformat_minor": 2
}
