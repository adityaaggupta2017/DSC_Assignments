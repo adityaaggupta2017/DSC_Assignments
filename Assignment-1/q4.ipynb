{
 "cells": [
  {
   "cell_type": "code",
   "execution_count": 36,
   "metadata": {},
   "outputs": [],
   "source": [
    "from collections import Counter\n",
    "import pandas as pd\n",
    "import math\n",
    "import numpy as np "
   ]
  },
  {
   "cell_type": "markdown",
   "metadata": {},
   "source": [
    "We downloaded the \"Hurricane\" csv from the excel file mentioned in the question . Now we can apply changes as asked in the questions . "
   ]
  },
  {
   "cell_type": "markdown",
   "metadata": {},
   "source": [
    "* PART - A\n",
    "\n",
    "In this part of the question we need to write program for t-test for correlation coefficient with a 1% level of significance between \"“Max. sustained winds(mph)” and “Minimum pressure(mbar)”."
   ]
  },
  {
   "cell_type": "code",
   "execution_count": 37,
   "metadata": {},
   "outputs": [],
   "source": [
    "dataset = pd.read_csv('Assignment-1 - Hurricane.csv')\n",
    "\n",
    "wind_speed = dataset['Max. sustained winds(mph)'] ;  \n",
    "\n",
    "min_pressure = dataset['Minimum pressure(mbar)'] ; \n",
    "\n",
    "wind_speed = np.array(wind_speed) ; \n",
    "min_pressure = np.array(min_pressure) ; \n",
    "# print(wind_speed.shape) ; \n",
    "# print(wind_speed) ; \n",
    "# print(min_pressure.shape) ;  \n",
    "# print(min_pressure) ;  \n",
    "\n",
    "\n",
    "# Now we have got the column values in the np arrays . Now we can proceed with the t_test ; \n",
    "\n",
    "\n"
   ]
  },
  {
   "cell_type": "markdown",
   "metadata": {},
   "source": [
    "We will be using t_test to conduct t-test for correlation coefficient between “Max. sustained winds(mph)” and “Minimum pressure(mbar)” with 1% level of significance . Thus we formulate the hypothesis first : "
   ]
  },
  {
   "cell_type": "markdown",
   "metadata": {},
   "source": [
    "### Null Hypothesis (H₀)\n",
    "There is no significant correlation between the two variables.\n",
    "\n",
    "- H₀: ρ = 0\n",
    "\n",
    "### Alternative Hypothesis (H₁)\n",
    "There is a significant correlation between the two variables (two-tailed test).\n",
    "\n",
    "- H₁: ρ ≠ 0\n",
    "\n",
    "Let us first calculate the value of r (Pearson Correlation Coefficient) . "
   ]
  },
  {
   "cell_type": "code",
   "execution_count": 38,
   "metadata": {},
   "outputs": [
    {
     "name": "stdout",
     "output_type": "stream",
     "text": [
      "The value of r is : -0.48359549563566406\n",
      "The degree of freedom is: 99\n",
      "Value of t comes out to be: -5.497270157344813\n"
     ]
    }
   ],
   "source": [
    "# let r be the correlation coefficient . \n",
    "\n",
    "def calculate_mean(data) : \n",
    "  if (len(data) == 0):\n",
    "    return None ; \n",
    "  \n",
    "  return sum(data) / len(data) ;  \n",
    "\n",
    "\n",
    "def calculate_num(wind_speed , min_pressure): \n",
    "  mean_wind_speed = calculate_mean(wind_speed) ; \n",
    "  \n",
    "  mean_min_pressure = calculate_mean(min_pressure) ; \n",
    "  \n",
    "  ans = 0 ; \n",
    "  \n",
    "  for i in range(len(wind_speed)): \n",
    "    \n",
    "    first_term = (wind_speed[i] - mean_wind_speed) ; \n",
    "    second_term = (min_pressure[i] -mean_min_pressure) ; \n",
    "    \n",
    "    ans += first_term * second_term ; \n",
    "  \n",
    "  return ans ; \n",
    "\n",
    "def calculate_den(wind_speed , min_pressure):\n",
    "  mean_wind_speed = calculate_mean(wind_speed) ; \n",
    "  \n",
    "  mean_min_pressure = calculate_mean(min_pressure) ; \n",
    "  \n",
    "  ans = 0 ; \n",
    "  \n",
    "  first_term = 0 ; \n",
    "  second_term = 0 ; \n",
    "  \n",
    "  for i in range(len(wind_speed)):\n",
    "    first_term += (wind_speed[i] - mean_wind_speed) ** 2 ; \n",
    "  \n",
    "  for i in range(len(min_pressure)):\n",
    "    second_term += (min_pressure[i] - mean_min_pressure) ** 2 ; \n",
    "  \n",
    "  \n",
    "  ans = first_term * second_term ; \n",
    "  \n",
    "  ans = ans ** (1/2) ; \n",
    "  \n",
    "  return ans ; \n",
    "\n",
    "numerator = calculate_num(wind_speed, min_pressure)\n",
    "denominator = calculate_den(wind_speed, min_pressure)\n",
    "\n",
    "if denominator != 0:  # To avoid division by zero\n",
    "    r = numerator / denominator\n",
    "else:\n",
    "    r = None\n",
    "\n",
    "\n",
    "print(\"The value of r is : \" + str(r)) \n",
    "\n",
    "\n",
    "den_term = math.sqrt(1 - r * r) ; \n",
    "\n",
    "n = len(wind_speed) ; \n",
    "\n",
    "t = (r / den_term) * (math.sqrt(n - 2)) ; \n",
    "\n",
    "degree_of_freedom = (n - 2) ; \n",
    "\n",
    "print(\"The degree of freedom is: \" + str(degree_of_freedom)) ; \n",
    "print(\"Value of t comes out to be: \" + str(t)) ;  # we get the t-value from here . \n",
    "\n",
    "# Thus from the t-table shared to us , we can see that the value of alpha = 0.01 .(as the significance is 1% and the test is two tailed) . The value for n = 90 , cutoff = 2.632 and for n = 100 , cutoff = 2.626 . \n",
    "\n",
    "# Thus we know -5.49 < -2.632 , Thus we will reject the null hypothesis . \n"
   ]
  },
  {
   "cell_type": "markdown",
   "metadata": {},
   "source": [
    "Thus from the t-table shared to us , we can see that the value of alpha = 0.01 .(as the significance is 1% and the test is two tailed) . The value for n = 90 , cutoff = 2.632 and for n = 100 , cutoff = 2.626 . \n",
    "\n",
    "Thus we know -5.49 < -2.632 , Thus we will reject the null hypothesis . "
   ]
  },
  {
   "cell_type": "markdown",
   "metadata": {},
   "source": [
    "# Part B"
   ]
  },
  {
   "cell_type": "markdown",
   "metadata": {},
   "source": [
    "In this we will first change the categorical (Non-Numerical)"
   ]
  },
  {
   "cell_type": "markdown",
   "metadata": {},
   "source": []
  }
 ],
 "metadata": {
  "kernelspec": {
   "display_name": "Python 3",
   "language": "python",
   "name": "python3"
  },
  "language_info": {
   "codemirror_mode": {
    "name": "ipython",
    "version": 3
   },
   "file_extension": ".py",
   "mimetype": "text/x-python",
   "name": "python",
   "nbconvert_exporter": "python",
   "pygments_lexer": "ipython3",
   "version": "3.12.2"
  }
 },
 "nbformat": 4,
 "nbformat_minor": 2
}
