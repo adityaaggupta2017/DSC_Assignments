{
 "cells": [
  {
   "cell_type": "markdown",
   "metadata": {},
   "source": [
    "ALL IMPORTS ARE BEING STORED HERE ."
   ]
  },
  {
   "cell_type": "code",
   "execution_count": 489,
   "metadata": {},
   "outputs": [],
   "source": [
    "from sklearn.datasets import fetch_kddcup99 \n",
    "from sklearn.random_projection import johnson_lindenstrauss_min_dim \n",
    "from sklearn.random_projection import SparseRandomProjection , GaussianRandomProjection\n",
    "import numpy as np\n",
    "import pandas as pd \n",
    "from sklearn.preprocessing import LabelEncoder\n",
    "from sklearn.cluster import KMeans \n",
    "import matplotlib.pyplot as plt \n",
    "from sklearn.linear_model import LinearRegression\n",
    "from sklearn.metrics import mean_squared_error \n",
    "import scipy.sparse as sp"
   ]
  },
  {
   "cell_type": "markdown",
   "metadata": {},
   "source": [
    "2. We will use random projection on the KDD Cup dataset. Fetch this dataset from\n",
    "sklearn using the following command in your python code from sklearn.datasets import fetch kddcup99. Compute the number of sam-\n",
    "ples as n and number of features as d from the data (i.e., D ∈ Rn×d)."
   ]
  },
  {
   "cell_type": "code",
   "execution_count": 490,
   "metadata": {},
   "outputs": [
    {
     "name": "stdout",
     "output_type": "stream",
     "text": [
      "The number of samples is 494021 and the number of features is 41\n"
     ]
    }
   ],
   "source": [
    "data = fetch_kddcup99(as_frame = True) ;\n",
    "\n",
    "Data = data.frame ; # this will give me the data in the form of a pandas dataframe . \n",
    "\n",
    "target = data.target # the last column is the target variable .\n",
    "\n",
    "Data = Data.iloc[: ,:-1] # getting only the features and not the target variable . \n",
    "\n",
    "n , d = Data.shape ; \n",
    "\n",
    "print(f\"The number of samples is {n} and the number of features is {d}\") ; "
   ]
  },
  {
   "cell_type": "markdown",
   "metadata": {},
   "source": [
    "Thus we have 494021 datapoints with the number of features as 41 . "
   ]
  },
  {
   "cell_type": "markdown",
   "metadata": {},
   "source": [
    "# PART-A"
   ]
  },
  {
   "cell_type": "markdown",
   "metadata": {},
   "source": [
    "(a) Define a family of JL matrices of size d × 20. Let matrix M ∈ Rd×20 be a\n",
    "\n",
    "uniformly random sample from the family. Notice that M is a linear transfor-\n",
    "mation that maps a vector from R^d\n",
    "to R^20. Compute a mapping of every point\n",
    "in D as E = DM and compute k-means clustering, using k = 15. Let A be\n",
    "the centroids of DM and B be the centroids of D. Compaute the loss of the\n",
    "k-means clusteiring on D using A and B respectively. Repeat this experiment\n",
    "5 times for each random matrix M. Present your result in a table or bar graph."
   ]
  },
  {
   "cell_type": "markdown",
   "metadata": {},
   "source": [
    "we take the matrix with enteries from the gaussian distribution of mean 0 and variance 1/root(k)"
   ]
  },
  {
   "cell_type": "markdown",
   "metadata": {},
   "source": [
    "First let's see the datatype of all the columns in this dataframe . "
   ]
  },
  {
   "cell_type": "code",
   "execution_count": 491,
   "metadata": {},
   "outputs": [
    {
     "name": "stdout",
     "output_type": "stream",
     "text": [
      "duration                       object\n",
      "protocol_type                  object\n",
      "service                        object\n",
      "flag                           object\n",
      "src_bytes                      object\n",
      "dst_bytes                      object\n",
      "land                           object\n",
      "wrong_fragment                 object\n",
      "urgent                         object\n",
      "hot                            object\n",
      "num_failed_logins              object\n",
      "logged_in                      object\n",
      "num_compromised                object\n",
      "root_shell                     object\n",
      "su_attempted                   object\n",
      "num_root                       object\n",
      "num_file_creations             object\n",
      "num_shells                     object\n",
      "num_access_files               object\n",
      "num_outbound_cmds              object\n",
      "is_host_login                  object\n",
      "is_guest_login                 object\n",
      "count                          object\n",
      "srv_count                      object\n",
      "serror_rate                    object\n",
      "srv_serror_rate                object\n",
      "rerror_rate                    object\n",
      "srv_rerror_rate                object\n",
      "same_srv_rate                  object\n",
      "diff_srv_rate                  object\n",
      "srv_diff_host_rate             object\n",
      "dst_host_count                 object\n",
      "dst_host_srv_count             object\n",
      "dst_host_same_srv_rate         object\n",
      "dst_host_diff_srv_rate         object\n",
      "dst_host_same_src_port_rate    object\n",
      "dst_host_srv_diff_host_rate    object\n",
      "dst_host_serror_rate           object\n",
      "dst_host_srv_serror_rate       object\n",
      "dst_host_rerror_rate           object\n",
      "dst_host_srv_rerror_rate       object\n",
      "dtype: object\n",
      "0    b'normal.'\n",
      "1    b'normal.'\n",
      "2    b'normal.'\n",
      "3    b'normal.'\n",
      "4    b'normal.'\n",
      "Name: labels, dtype: object\n",
      "[b'normal.' b'buffer_overflow.' b'loadmodule.' b'perl.' b'neptune.'\n",
      " b'smurf.' b'guess_passwd.' b'pod.' b'teardrop.' b'portsweep.' b'ipsweep.'\n",
      " b'land.' b'ftp_write.' b'back.' b'imap.' b'satan.' b'phf.' b'nmap.'\n",
      " b'multihop.' b'warezmaster.' b'warezclient.' b'spy.' b'rootkit.']\n"
     ]
    }
   ],
   "source": [
    "\n",
    "# categorical_columns = Data.select_dtypes(include = ['object']).columns ; \n",
    "# numerical_columns = Data.select_dtypes(include = ['number']).columns ; \n",
    "\n",
    "\n",
    "print(Data.dtypes) ; \n",
    "\n",
    "print(target.head()) ;  \n",
    "\n",
    "print(target.unique())"
   ]
  },
  {
   "cell_type": "code",
   "execution_count": 492,
   "metadata": {},
   "outputs": [
    {
     "name": "stdout",
     "output_type": "stream",
     "text": [
      "duration: [0 1 79 102 8]\n",
      "protocol_type: [b'tcp' b'udp' b'icmp']\n",
      "service: [b'http' b'smtp' b'finger' b'domain_u' b'auth']\n",
      "flag: [b'SF' b'S1' b'REJ' b'S2' b'S0']\n",
      "src_bytes: [181 239 235 219 217]\n",
      "dst_bytes: [5450 486 1337 2032 1940]\n",
      "land: [0 1]\n",
      "wrong_fragment: [0 1 3]\n",
      "urgent: [0 2 1 3]\n",
      "hot: [0 1 3 19 6]\n",
      "num_failed_logins: [0 1 5 2 4]\n",
      "logged_in: [1 0]\n",
      "num_compromised: [0 2 1 4 16]\n",
      "root_shell: [0 1]\n",
      "su_attempted: [0 1 2]\n",
      "num_root: [0 2 1 3 9]\n",
      "num_file_creations: [0 1 2 4 15]\n",
      "num_shells: [0 2 1]\n",
      "num_access_files: [0 1 2 4 6]\n",
      "num_outbound_cmds: [0]\n",
      "is_host_login: [0]\n",
      "is_guest_login: [0 1]\n",
      "count: [8 6 1 5 18]\n",
      "srv_count: [8 6 2 5 18]\n",
      "serror_rate: [0.0 0.25 0.11 0.03 0.17]\n",
      "srv_serror_rate: [0.0 0.25 0.11 0.03 0.17]\n",
      "rerror_rate: [0.0 1.0 0.08 0.5 0.96]\n",
      "srv_rerror_rate: [0.0 1.0 0.5 0.33 0.25]\n",
      "same_srv_rate: [1.0 0.5 0.33 0.89 0.95]\n",
      "diff_srv_rate: [0.0 1.0 0.67 0.22 0.11]\n",
      "srv_diff_host_rate: [0.0 1.0 0.25 0.2 0.12]\n",
      "dst_host_count: [9 19 29 39 49]\n",
      "dst_host_srv_count: [9 19 29 39 49]\n",
      "dst_host_same_srv_rate: [1.0 0.88 0.67 0.68 0.13]\n",
      "dst_host_diff_srv_rate: [0.0 0.25 0.17 0.14 0.11]\n",
      "dst_host_same_src_port_rate: [0.11 0.05 0.03 0.02 1.0]\n",
      "dst_host_srv_diff_host_rate: [0.0 0.04 0.05 0.03 0.06]\n",
      "dst_host_serror_rate: [0.0 0.01 0.03 0.02 0.06]\n",
      "dst_host_srv_serror_rate: [0.0 0.01 0.13 0.83 0.94]\n",
      "dst_host_rerror_rate: [0.0 1.0 0.1 0.05 0.03]\n",
      "dst_host_srv_rerror_rate: [0.0 1.0 0.25 0.1 0.5]\n",
      "The column duration is numerical\n",
      "The column protocol_type is categorical\n",
      "The column service is categorical\n",
      "The column flag is categorical\n",
      "The column src_bytes is numerical\n",
      "The column dst_bytes is numerical\n",
      "The column land is numerical\n",
      "The column wrong_fragment is numerical\n",
      "The column urgent is numerical\n",
      "The column hot is numerical\n",
      "The column num_failed_logins is numerical\n",
      "The column logged_in is numerical\n",
      "The column num_compromised is numerical\n",
      "The column root_shell is numerical\n",
      "The column su_attempted is numerical\n",
      "The column num_root is numerical\n",
      "The column num_file_creations is numerical\n",
      "The column num_shells is numerical\n",
      "The column num_access_files is numerical\n",
      "The column num_outbound_cmds is numerical\n",
      "The column is_host_login is numerical\n",
      "The column is_guest_login is numerical\n",
      "The column count is numerical\n",
      "The column srv_count is numerical\n",
      "The column serror_rate is numerical\n",
      "The column srv_serror_rate is numerical\n",
      "The column rerror_rate is numerical\n",
      "The column srv_rerror_rate is numerical\n",
      "The column same_srv_rate is numerical\n",
      "The column diff_srv_rate is numerical\n",
      "The column srv_diff_host_rate is numerical\n",
      "The column dst_host_count is numerical\n",
      "The column dst_host_srv_count is numerical\n",
      "The column dst_host_same_srv_rate is numerical\n",
      "The column dst_host_diff_srv_rate is numerical\n",
      "The column dst_host_same_src_port_rate is numerical\n",
      "The column dst_host_srv_diff_host_rate is numerical\n",
      "The column dst_host_serror_rate is numerical\n",
      "The column dst_host_srv_serror_rate is numerical\n",
      "The column dst_host_rerror_rate is numerical\n",
      "The column dst_host_srv_rerror_rate is numerical\n"
     ]
    }
   ],
   "source": [
    "# for column in Data.columns : \n",
    "#     print(f\"The number of unique values in the column {column} is {Data[column].nunique()}\") ; \n",
    "    \n",
    "for column in Data.columns :\n",
    "    print(f\"{column}: {Data[column].unique()[:5]}\") \n",
    "\n",
    "for column in Data.columns : \n",
    "  try: \n",
    "    Data[column] = pd.to_numeric(Data[column]) ; \n",
    "    \n",
    "    print(f\"The column {column} is numerical\") ; \n",
    "  \n",
    "  except: \n",
    "    print(f\"The column {column} is categorical\") ; "
   ]
  },
  {
   "cell_type": "markdown",
   "metadata": {},
   "source": [
    "Thus we have 3 categorical columns and rest are numerical columns . "
   ]
  },
  {
   "cell_type": "markdown",
   "metadata": {},
   "source": [
    "Now we can get the jl matrices from here after changing the categorical columns to the encodings . "
   ]
  },
  {
   "cell_type": "code",
   "execution_count": 493,
   "metadata": {},
   "outputs": [
    {
     "name": "stdout",
     "output_type": "stream",
     "text": [
      "(494021, 41)\n",
      "(41, 20)\n",
      "(494021, 20)\n"
     ]
    }
   ],
   "source": [
    "# now in the data , we have byte strings and categorical features , we need to convert them to numerical values . \n",
    "\n",
    "categorical_columns = Data.select_dtypes(include = ['object']).columns ; \n",
    "numerical_columns = Data.select_dtypes(include = ['number']).columns ; \n",
    "\n",
    "label_encoders = {} ; \n",
    "\n",
    "for column in categorical_columns: \n",
    "  label_enc = LabelEncoder() ; \n",
    "  \n",
    "  Data[column] = label_enc.fit_transform(Data[column]) ; \n",
    "  \n",
    "  label_encoders[column] = label_enc ; \n",
    "  \n",
    "\n",
    "Data = Data.to_numpy(dtype=float) ;  \n",
    "\n",
    "def get_jl_matrix(d , m): \n",
    "  \n",
    "  return np.random.normal(0 , 1/np.sqrt(m) , (d , m)) ; \n",
    "\n",
    "def get_E(D , M): \n",
    "  \n",
    "  print(D.shape) ; \n",
    "  print(M.shape) ; \n",
    "  # D = np.array(D, dtype=np.float64)\n",
    "  # M = np.array(M, dtype=np.float64)\n",
    "  return np.dot(D , M) ; \n",
    "\n",
    "\n",
    "M = get_jl_matrix(d , 20) ; \n",
    "\n",
    "E = get_E(Data , M) ; \n",
    "\n",
    "# thus we get the matrix E with the following dimensions . \n",
    "\n",
    "print(E.shape) ; "
   ]
  },
  {
   "cell_type": "markdown",
   "metadata": {},
   "source": [
    "NOW WE NEED TO COMPUTE K MEAN CLUSTERING USING K = 15 . Let A be\n",
    "the centroids of DM and B be the centroids of D. Compaute the loss of the\n",
    "k-means clusteiring on D using A and B respectively."
   ]
  },
  {
   "cell_type": "markdown",
   "metadata": {},
   "source": [
    "Thus the entries from the JL matrix is from a gaussian RV with mean 0 and variance 1/m , where m is 20 as given in the question . Now we make the matrix E = DM , thus E has dimension of n*20 or 494021 * 20 . Thus , we get D which is the original matrix and E which is the newly formed matrix . Now , we find centroids with k = 15(clusters are 15) and using these centroids find lose on the dataset D . Now , the dimensions of the centroids from E is 20 , while the datapoints in D are of dimension 41 . Thus , we have use pseudoinverse of M and dot product it with centroids of E to get them back in the higher dimension. "
   ]
  },
  {
   "cell_type": "code",
   "execution_count": 494,
   "metadata": {},
   "outputs": [
    {
     "name": "stdout",
     "output_type": "stream",
     "text": [
      "Reducing the number of dimensions from 41 to 20\n",
      "Running iteration 0\n",
      "(494021, 41)\n",
      "(41, 20)\n",
      "(20, 41)\n",
      "Running iteration 1\n",
      "(494021, 41)\n",
      "(41, 20)\n",
      "(20, 41)\n",
      "Running iteration 2\n",
      "(494021, 41)\n",
      "(41, 20)\n",
      "(20, 41)\n",
      "Running iteration 3\n",
      "(494021, 41)\n",
      "(41, 20)\n",
      "(20, 41)\n",
      "Running iteration 4\n",
      "(494021, 41)\n",
      "(41, 20)\n",
      "(20, 41)\n",
      "\n",
      "Experiment Results Table is as follows :\n",
      "Experiment | Loss on D (original) | Loss on DM (reduced)\n",
      "     1     |    3228505318238.99         |    220057013633115680.00\n",
      "     2     |    3228505318238.99         |    178510632426254304.00\n",
      "     3     |    3228505318238.99         |    244727445683587904.00\n",
      "     4     |    3228505318238.99         |    214430214690813568.00\n",
      "     5     |    3228505318238.99         |    326329726596888576.00\n"
     ]
    },
    {
     "data": {
      "image/png": "[encoded data removed]",
      "text/plain": [
       "<Figure size 1000x600 with 1 Axes>"
      ]
     },
     "metadata": {},
     "output_type": "display_data"
    }
   ],
   "source": [
    "k = 15  \n",
    "number_of_iterations = 5 \n",
    "d = Data.shape[1] ; # number of dimensions in the data . \n",
    "m = 20 # reduced number of dimensions . \n",
    "\n",
    "print(f\"Reducing the number of dimensions from {d} to {m}\") ;\n",
    "\n",
    "losses_D = [] ; \n",
    "losses_E = [] ; \n",
    "\n",
    "def get_centroids(data , k): \n",
    "  \n",
    "  k_means_clus = KMeans(n_clusters=k , random_state=42 ,  n_init=10) ; \n",
    "  k_means_clus.fit(data) ; \n",
    "  centroids = k_means_clus.cluster_centers_ ; \n",
    "  \n",
    "  return centroids ; \n",
    "\n",
    "def get_loss(data , centroids): \n",
    "  \n",
    "  distances = np.linalg.norm(data[: , None] - centroids , axis=2) ; \n",
    "  \n",
    "  # print(distances.shape) ; \n",
    "  nearest_distances = np.min(distances , axis=1) ; \n",
    "  \n",
    "  loss = np.sum(nearest_distances ** 2) ; \n",
    "  \n",
    "  return loss ;  \n",
    "\n",
    "  \n",
    "for iteration in range(number_of_iterations): \n",
    "  \n",
    "  print(f\"Running iteration {iteration}\") ; \n",
    "  \n",
    "  M = get_jl_matrix(d , m) ; \n",
    "  \n",
    "  E = get_E(Data , M) ; \n",
    "  \n",
    "  centroids_D = get_centroids(Data , k) ; \n",
    "  centroids_E = get_centroids(E , k) ; \n",
    "  \n",
    "  M_pseudo_inverse = np.linalg.pinv(M) ; \n",
    "  print(M_pseudo_inverse.shape) ; \n",
    "  \n",
    "  centroids_E_transformed = np.dot(centroids_E , M_pseudo_inverse) ; \n",
    "    \n",
    "  loss_D_on_D = get_loss(Data , centroids_D) ; \n",
    "  loss_E_on_D = get_loss(Data , centroids_E_transformed) ; \n",
    "  \n",
    "  losses_D.append(loss_D_on_D) ; \n",
    "  losses_E.append(loss_E_on_D) ; \n",
    "  \n",
    "\n",
    "print(\"\\nExperiment Results Table is as follows :\")\n",
    "print(\"Experiment | Loss on D (original) | Loss on DM (reduced)\")\n",
    "\n",
    "i = 0 ; \n",
    "\n",
    "for (ld , ldm) in zip(losses_D , losses_E): \n",
    "  i += 1 ; \n",
    "  print(f\"     {i}     |    {ld:.2f}         |    {ldm:.2f}\") ; \n",
    "  \n",
    "\n",
    "experiments = np.arange(1, number_of_iterations + 1)\n",
    "plt.figure(figsize=(10, 6))\n",
    "plt.bar(experiments - 0.2, losses_D, width=0.4, label='Loss on D')\n",
    "plt.bar(experiments + 0.2, losses_E, width=0.4, label='Loss on DM')\n",
    "plt.xlabel('Experiment Number')\n",
    "plt.ylabel('K-Means Loss')\n",
    "plt.title('Comparison of K-Means Loss on D and DM')\n",
    "plt.legend()\n",
    "plt.show()"
   ]
  },
  {
   "cell_type": "markdown",
   "metadata": {},
   "source": [
    "Thus , we can see the difference between the losses in both the cases . The loss due to DM is a lot higher than the loss due to D . This is due to loss of data during data dimension reduction . "
   ]
  },
  {
   "cell_type": "markdown",
   "metadata": {},
   "source": [
    "# PART-B"
   ]
  },
  {
   "cell_type": "markdown",
   "metadata": {},
   "source": [
    "b) We will run a linear regression on the dataset. Consider the label feature as\n",
    "the target/response as y. It has 23 classes. Define a family of JL matrices of\n",
    "size 10 × n. Notice that the matrix-matrix between a sample from the JL\n",
    "family and D could be very expensive. So, you may use a sparse JL matrix\n",
    "as shown in the class. Let matrix M ∈ R10d×n be a uniformly random sample\n",
    "from the sparse JL family. Compute E = MD and z = My and solve linear\n",
    "regression on (E, z). Also, solve the linear regression on (D,y). Let a be the\n",
    "solution of (E, z) and b be the solution of (D,y). Compute the loss of the\n",
    "linear regression on (D,y) using a and b, respectively. Repeat this experiment\n",
    "5 times for each random matrix M. Present your result in a table or bar graph."
   ]
  },
  {
   "cell_type": "markdown",
   "metadata": {},
   "source": [
    "Lets see the number of classes in the target . "
   ]
  },
  {
   "cell_type": "code",
   "execution_count": 495,
   "metadata": {},
   "outputs": [],
   "source": [
    "def get_sparse_jl_matrix(output_dim, input_dim, density=None):\n",
    "  \n",
    "    if density is None:\n",
    "        density = 1 / np.sqrt(input_dim)\n",
    "    mask = sp.random(output_dim, input_dim, density=density, data_rvs=np.random.randn)\n",
    "    return sp.csr_matrix(mask)\n",
    "\n",
    "\n",
    "def get_sparse_E(M , D):\n",
    "    if (sp.issparse(M)):\n",
    "        M = M.toarray() ; \n",
    "    \n",
    "    \n",
    "    print(D.shape) ; \n",
    "    print(M.shape) ; \n",
    "    \n",
    "    return np.dot(M , D) ; "
   ]
  },
  {
   "cell_type": "code",
   "execution_count": 496,
   "metadata": {},
   "outputs": [
    {
     "name": "stdout",
     "output_type": "stream",
     "text": [
      "23\n"
     ]
    }
   ],
   "source": [
    "print(len(target.unique())) ; "
   ]
  },
  {
   "cell_type": "markdown",
   "metadata": {},
   "source": [
    "NOW LETS GET THE JL MATRIX OF SIZE 10d * n  "
   ]
  },
  {
   "cell_type": "markdown",
   "metadata": {},
   "source": [
    "Changing the target to label encoding"
   ]
  },
  {
   "cell_type": "code",
   "execution_count": 497,
   "metadata": {},
   "outputs": [
    {
     "name": "stdout",
     "output_type": "stream",
     "text": [
      "(410, 494021)\n",
      "(494021, 41)\n",
      "(410, 41)\n",
      "(410, 494021)\n",
      "(494021, 1)\n",
      "(410, 1)\n"
     ]
    }
   ],
   "source": [
    "M = get_jl_matrix(10*d , n) ; \n",
    "\n",
    "# print(M.shape) ; \n",
    "\n",
    "# print(Data.shape) ; \n",
    "E = get_E(M , Data) ; \n",
    "\n",
    "print(E.shape) ; # thus we get matrix E of size 10*d x d . \n",
    "\n",
    "label_enc = LabelEncoder() ; \n",
    "\n",
    "target_numeric = label_enc.fit_transform(target) ; \n",
    "\n",
    "target_numeric = target_numeric.reshape(-1 , 1) ; # this reshapes the target variable to a column vector . \n",
    "\n",
    "\n",
    "Z = get_E(M , target_numeric) ; # the target was the y . \n",
    "\n",
    "print(Z.shape) ; # thus we get the matrix Z of size 10*d x 1 . "
   ]
  },
  {
   "cell_type": "markdown",
   "metadata": {},
   "source": [
    "NOW SOLVING LINEAR REGRESSION ON (E , z) . "
   ]
  },
  {
   "cell_type": "code",
   "execution_count": 498,
   "metadata": {},
   "outputs": [],
   "source": [
    "model_E_Z = LinearRegression() ; \n",
    "model_E_Z.fit(E , Z) ; \n",
    "\n",
    "predictions_E = model_E_Z.predict(E) ; \n",
    "\n",
    "# mse = mean_squared_error(Z, predictions_E)\n",
    "\n",
    "# print(f\"The mean squared error is {mse}\") ; "
   ]
  },
  {
   "cell_type": "markdown",
   "metadata": {},
   "source": [
    "NOW SOLVING LINEAR REGRESSION ON (D , y) . "
   ]
  },
  {
   "cell_type": "code",
   "execution_count": 499,
   "metadata": {},
   "outputs": [
    {
     "name": "stdout",
     "output_type": "stream",
     "text": [
      "(494021, 1)\n"
     ]
    }
   ],
   "source": [
    "print(target_numeric.shape)\n",
    "\n",
    "model_D_y = LinearRegression() ; \n",
    "model_D_y.fit(Data , target_numeric) ; \n",
    "predictions_D = model_D_y.predict(Data) ; \n",
    "# print(target_numeric[0:13])  ; \n",
    "# print(predictions_D[0:13]) ;  \n",
    "# print(predictions_D.shape) ; \n",
    "# mse = mean_squared_error(target_numeric, predictions_D)\n",
    "\n",
    "# print(f\"The mean squared error is {mse}\") ; "
   ]
  },
  {
   "cell_type": "markdown",
   "metadata": {},
   "source": [
    "NOW WE NEED TO COMPUTE THE LOSS OF THE LINEAR REGRESSION ON (D , y) using a and b , respectively . "
   ]
  },
  {
   "cell_type": "code",
   "execution_count": 500,
   "metadata": {},
   "outputs": [
    {
     "name": "stdout",
     "output_type": "stream",
     "text": [
      "The mean squared error for the model E_Z is 0.9098524747143832 and for the model D_y is 0.824035824598291\n"
     ]
    }
   ],
   "source": [
    "predictions_model_E_Z = model_E_Z.predict(Data) ; \n",
    "predictions_model_D_y = model_D_y.predict(Data) ; \n",
    "\n",
    "mse_E_Z = mean_squared_error(target_numeric , predictions_model_E_Z) ; \n",
    "mse_D_y = mean_squared_error(target_numeric , predictions_model_D_y) ; \n",
    "\n",
    "print(f\"The mean squared error for the model E_Z is {mse_E_Z} and for the model D_y is {mse_D_y}\") ; "
   ]
  },
  {
   "cell_type": "markdown",
   "metadata": {},
   "source": [
    "NOW WE NEED TO DO THE ABOVE THING 5 times for each random matrix M. Present your result in a table or bar graph. "
   ]
  },
  {
   "cell_type": "code",
   "execution_count": 501,
   "metadata": {},
   "outputs": [
    {
     "name": "stdout",
     "output_type": "stream",
     "text": [
      "(410, 494021)\n",
      "(494021, 41)\n",
      "(410, 494021)\n",
      "(494021, 1)\n",
      "(410, 494021)\n",
      "(494021, 41)\n",
      "(410, 494021)\n",
      "(494021, 1)\n",
      "(410, 494021)\n",
      "(494021, 41)\n",
      "(410, 494021)\n",
      "(494021, 1)\n",
      "(410, 494021)\n",
      "(494021, 41)\n",
      "(410, 494021)\n",
      "(494021, 1)\n",
      "(410, 494021)\n",
      "(494021, 41)\n",
      "(410, 494021)\n",
      "(494021, 1)\n",
      "\n",
      "Experiment Results Table is as follows :\n",
      "Experiment | Loss on E_Z | Loss on D_y\n",
      "     1     |    0.90         |    0.82\n",
      "     2     |    0.90         |    0.82\n",
      "     3     |    0.97         |    0.82\n",
      "     4     |    0.94         |    0.82\n",
      "     5     |    0.92         |    0.82\n"
     ]
    },
    {
     "data": {
      "image/png": "[encoded data removed]",
      "text/plain": [
       "<Figure size 1000x600 with 1 Axes>"
      ]
     },
     "metadata": {},
     "output_type": "display_data"
    }
   ],
   "source": [
    "losses_model_E_Z = [] ; \n",
    "losses_model_D_y = [] ; \n",
    "\n",
    "number_of_iterations = 5 ; \n",
    "\n",
    "for iteration in range(number_of_iterations): \n",
    "  M = get_jl_matrix(10*d , n) ;  \n",
    "  E = get_E(M , Data) ; \n",
    "  Z = get_E(M , target_numeric) ; \n",
    "  model_E_Z = LinearRegression() ; \n",
    "  model_E_Z.fit(E , Z) ; \n",
    "  predictions_model_E_Z = model_E_Z.predict(Data) ;  \n",
    "  mse = mean_squared_error(target_numeric , predictions_model_E_Z) ; \n",
    "  losses_model_E_Z.append(mse) ;\n",
    "  \n",
    "  model_D_y = LinearRegression() ;\n",
    "  model_D_y.fit(Data , target_numeric) ; \n",
    "  predictions_model_D_y = model_D_y.predict(Data) ; \n",
    "  mse = mean_squared_error(target_numeric , predictions_model_D_y) ; \n",
    "  losses_model_D_y.append(mse) ; \n",
    "  \n",
    "print(\"\\nExperiment Results Table is as follows :\")\n",
    "print(\"Experiment | Loss on E_Z | Loss on D_y\")\n",
    "for i, (le, ld) in enumerate(zip(losses_model_E_Z, losses_model_D_y)):\n",
    "    print(f\"     {i+1}     |    {le:.2f}         |    {ld:.2f}\")\n",
    "    \n",
    "# we are also plotting the results . \n",
    "\n",
    "experiments = np.arange(1, number_of_iterations + 1)\n",
    "plt.figure(figsize=(10, 6))\n",
    "plt.bar(experiments - 0.2, losses_model_E_Z, width=0.4, label='Loss on E_Z')\n",
    "plt.bar(experiments + 0.2, losses_model_D_y, width=0.4, label='Loss on D_y')\n",
    "plt.xlabel('Experiment Number')\n",
    "plt.ylabel('Mean Squared Error')\n",
    "plt.title('Comparison of Mean Squared Error on E_Z and D_y')\n",
    "\n",
    "plt.legend()\n",
    "plt.show()\n",
    "\n"
   ]
  },
  {
   "cell_type": "markdown",
   "metadata": {},
   "source": [
    "WITH SPARSE JL FAMILY THIS TIME . "
   ]
  },
  {
   "cell_type": "code",
   "execution_count": 502,
   "metadata": {},
   "outputs": [
    {
     "name": "stdout",
     "output_type": "stream",
     "text": [
      "(494021, 41)\n",
      "(410, 494021)\n",
      "(494021, 1)\n",
      "(410, 494021)\n",
      "(494021, 41)\n",
      "(410, 494021)\n",
      "(494021, 1)\n",
      "(410, 494021)\n",
      "(494021, 41)\n",
      "(410, 494021)\n",
      "(494021, 1)\n",
      "(410, 494021)\n",
      "(494021, 41)\n",
      "(410, 494021)\n",
      "(494021, 1)\n",
      "(410, 494021)\n",
      "(494021, 41)\n",
      "(410, 494021)\n",
      "(494021, 1)\n",
      "(410, 494021)\n",
      "\n",
      "Experiment Results Table is as follows :\n",
      "Experiment | Loss on E_Z | Loss on D_y\n",
      "     1     |    1.86         |    0.82\n",
      "     2     |    12.12         |    0.82\n",
      "     3     |    7.67         |    0.82\n",
      "     4     |    2.37         |    0.82\n",
      "     5     |    2.92         |    0.82\n"
     ]
    },
    {
     "data": {
      "image/png": "[encoded data removed]",
      "text/plain": [
       "<Figure size 1000x600 with 1 Axes>"
      ]
     },
     "metadata": {},
     "output_type": "display_data"
    }
   ],
   "source": [
    "losses_model_E_Z = [] ; \n",
    "losses_model_D_y = [] ; \n",
    "\n",
    "number_of_iterations = 5 ; \n",
    "\n",
    "for iteration in range(number_of_iterations): \n",
    "  M = get_sparse_jl_matrix(output_dim=10*d , input_dim=n) ;  \n",
    "  E = get_sparse_E(M , Data) ; \n",
    "  Z = get_sparse_E(M , target_numeric) ; \n",
    "  model_E_Z = LinearRegression() ; \n",
    "  model_E_Z.fit(E , Z) ; \n",
    "  predictions_model_E_Z = model_E_Z.predict(Data) ;  \n",
    "  mse = mean_squared_error(target_numeric , predictions_model_E_Z) ; \n",
    "  losses_model_E_Z.append(mse) ;\n",
    "  \n",
    "  model_D_y = LinearRegression() ;\n",
    "  model_D_y.fit(Data , target_numeric) ; \n",
    "  predictions_model_D_y = model_D_y.predict(Data) ; \n",
    "  mse = mean_squared_error(target_numeric , predictions_model_D_y) ; \n",
    "  losses_model_D_y.append(mse) ; \n",
    "  \n",
    "print(\"\\nExperiment Results Table is as follows :\")\n",
    "print(\"Experiment | Loss on E_Z | Loss on D_y\")\n",
    "for i, (le, ld) in enumerate(zip(losses_model_E_Z, losses_model_D_y)):\n",
    "    print(f\"     {i+1}     |    {le:.2f}         |    {ld:.2f}\")\n",
    "    \n",
    "# we are also plotting the results . \n",
    "\n",
    "experiments = np.arange(1, number_of_iterations + 1)\n",
    "plt.figure(figsize=(10, 6))\n",
    "plt.bar(experiments - 0.2, losses_model_E_Z, width=0.4, label='Loss on E_Z')\n",
    "plt.bar(experiments + 0.2, losses_model_D_y, width=0.4, label='Loss on D_y')\n",
    "plt.xlabel('Experiment Number')\n",
    "plt.ylabel('Mean Squared Error')\n",
    "plt.title('Comparison of Mean Squared Error on E_Z and D_y')\n",
    "\n",
    "plt.legend()\n",
    "plt.show()"
   ]
  }
 ],
 "metadata": {
  "kernelspec": {
   "display_name": "Python 3",
   "language": "python",
   "name": "python3"
  },
  "language_info": {
   "codemirror_mode": {
    "name": "ipython",
    "version": 3
   },
   "file_extension": ".py",
   "mimetype": "text/x-python",
   "name": "python",
   "nbconvert_exporter": "python",
   "pygments_lexer": "ipython3",
   "version": "3.12.2"
  }
 },
 "nbformat": 4,
 "nbformat_minor": 2
}
