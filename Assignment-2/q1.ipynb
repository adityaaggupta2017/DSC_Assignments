{
 "cells": [
  {
   "cell_type": "markdown",
   "metadata": {},
   "source": [
    "Create a hash table data structure. Make this a class in python. It should\n",
    "have the array A, which should be a python list of sized m for some user-speci\n",
    "ed value of m, specified when the class is instantiated. Each position of this\n",
    "list should also store another python list as the chain of elements which are\n",
    "mapped to this bucket. You can choose the prime number to be p = 524287.\n",
    "Use random library in python to choose a as specified in class and then create\n",
    "the function such that it hashes element x to ha(x) = ((ax) mod p) mod\n",
    "m."
   ]
  },
  {
   "cell_type": "markdown",
   "metadata": {},
   "source": [
    "We have to implement the above hash table data structure class which is the normal linked list type of data structure in a hash table . "
   ]
  },
  {
   "cell_type": "code",
   "execution_count": 9,
   "metadata": {},
   "outputs": [],
   "source": [
    "import random ; \n",
    "\n",
    "class HashTableDS: \n",
    "  \n",
    "  def __init__(self , m):\n",
    "    \n",
    "    self.m = m ; \n",
    "    self.p = 524287 ; \n",
    "    \n",
    "    self.A = [] ; \n",
    "    for i in range(m):\n",
    "      self.A.append([]) ; \n",
    "      \n",
    "    self.a = random.randint(1 , self.p - 1) ; # we select a from 1 to (p-1) as given in the slides \n",
    "    \n",
    "    \n",
    "  def hash_function_value(self , x): \n",
    "    \n",
    "    # this will return hashed value for the function . \n",
    "    \n",
    "     return (((self.a * x) % self.p) % self.m) ; \n",
    "   \n",
    "  def insert_element(self , x): \n",
    "    \n",
    "    hashing_index = self.hash_function_value(x) ; \n",
    "    \n",
    "    self.A[hashing_index].append(x) ; \n",
    "    \n",
    "    \n",
    "  def search_element(self, x ): \n",
    "    \n",
    "    index = self.hash_function_value(x) ; \n",
    "    \n",
    "    if x in self.A[index]:\n",
    "      \n",
    "      return True ; \n",
    "    \n",
    "    else:\n",
    "      return False ; \n",
    "    \n",
    "  def delete_element(self , x): \n",
    "    index = self.hash_function_value(x) ; \n",
    "    if x in self.A[index]: \n",
    "      self.A[index].remove(x) ; \n",
    "      \n",
    "      return True ; \n",
    "    \n",
    "    return False ; \n",
    "  \n",
    "  \n",
    "  def get_linked_lists(self): \n",
    "    for i in range(self.m): \n",
    "      if (len(self.A[i]) > 0): \n",
    "        print(f\"Bucket{i} elements :  {self.A[i]}\") ;     \n",
    " "
   ]
  }
 ],
 "metadata": {
  "kernelspec": {
   "display_name": "Python 3",
   "language": "python",
   "name": "python3"
  },
  "language_info": {
   "codemirror_mode": {
    "name": "ipython",
    "version": 3
   },
   "file_extension": ".py",
   "mimetype": "text/x-python",
   "name": "python",
   "nbconvert_exporter": "python",
   "pygments_lexer": "ipython3",
   "version": "3.12.2"
  }
 },
 "nbformat": 4,
 "nbformat_minor": 2
}
